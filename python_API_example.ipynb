{
 "cells": [
  {
   "cell_type": "markdown",
   "metadata": {},
   "source": [
    "# Elasticsearch python API overview "
   ]
  },
  {
   "cell_type": "code",
   "execution_count": 11,
   "metadata": {},
   "outputs": [],
   "source": [
    "import warnings\n",
    "from elasticsearch import Elasticsearch, RequestsHttpConnection\n",
    "warnings.filterwarnings('ignore')"
   ]
  },
  {
   "cell_type": "markdown",
   "metadata": {},
   "source": [
    "## Avant de commencer \n",
    "\n",
    "### Lancer elasticsearch avec docker \n",
    "\n",
    "Pour ce faire, on va run un cluster elastic dans un container. Si vous n'avez pas deja l'image elastic dans votre registery local il faut la pull du hub avec la commande suivante: \n",
    "\n",
    "```\n",
    "docker pull docker.elastic.co/elasticsearch/elasticsearch:7.11.1\n",
    "```\n",
    "\n",
    "puis on run le container sur le port 9200 tel que: \n",
    "\n",
    "```\n",
    "docker run -p 9200:9200 -p 9300:9300 -e \"discovery.type=single-node\" docker.elastic.co/elasticsearch/elasticsearch:7.11.1\n",
    "```\n",
    "\n",
    "### Lancer elasticsearch avec docker-compose \n",
    "\n",
    "On peut aussi lancer plusieurs noeud au sein d'un meme cluster avec docker-compose  tel que \n",
    "\n",
    "```Dockerfile \n",
    "version: '2.2'\n",
    "services:\n",
    "  es01:\n",
    "    image: docker.elastic.co/elasticsearch/elasticsearch:7.11.1\n",
    "    container_name: es01\n",
    "    environment:\n",
    "      - node.name=es01\n",
    "      - cluster.name=es-docker-cluster\n",
    "      - discovery.seed_hosts=es02,es03\n",
    "      - cluster.initial_master_nodes=es01,es02,es03\n",
    "      - bootstrap.memory_lock=true\n",
    "      - \"ES_JAVA_OPTS=-Xms512m -Xmx512m\"\n",
    "    ulimits:\n",
    "      memlock:\n",
    "        soft: -1\n",
    "        hard: -1\n",
    "    volumes:\n",
    "      - data01:/usr/share/elasticsearch/data\n",
    "    ports:\n",
    "      - 9200:9200\n",
    "    networks:\n",
    "      - elastic\n",
    "  es02:\n",
    "    image: docker.elastic.co/elasticsearch/elasticsearch:7.11.1\n",
    "    container_name: es02\n",
    "    environment:\n",
    "      - node.name=es02\n",
    "      - cluster.name=es-docker-cluster\n",
    "      - discovery.seed_hosts=es01,es03\n",
    "      - cluster.initial_master_nodes=es01,es02,es03\n",
    "      - bootstrap.memory_lock=true\n",
    "      - \"ES_JAVA_OPTS=-Xms512m -Xmx512m\"\n",
    "    ulimits:\n",
    "      memlock:\n",
    "        soft: -1\n",
    "        hard: -1\n",
    "    volumes:\n",
    "      - data02:/usr/share/elasticsearch/data\n",
    "    networks:\n",
    "      - elastic\n",
    "  es03:\n",
    "    image: docker.elastic.co/elasticsearch/elasticsearch:7.11.1\n",
    "    container_name: es03\n",
    "    environment:\n",
    "      - node.name=es03\n",
    "      - cluster.name=es-docker-cluster\n",
    "      - discovery.seed_hosts=es01,es02\n",
    "      - cluster.initial_master_nodes=es01,es02,es03\n",
    "      - bootstrap.memory_lock=true\n",
    "      - \"ES_JAVA_OPTS=-Xms512m -Xmx512m\"\n",
    "    ulimits:\n",
    "      memlock:\n",
    "        soft: -1\n",
    "        hard: -1\n",
    "    volumes:\n",
    "      - data03:/usr/share/elasticsearch/data\n",
    "    networks:\n",
    "      - elastic\n",
    "\n",
    "volumes:\n",
    "  data01:\n",
    "    driver: local\n",
    "  data02:\n",
    "    driver: local\n",
    "  data03:\n",
    "    driver: local\n",
    "\n",
    "networks:\n",
    "  elastic:\n",
    "    driver: bridge\n",
    "```\n",
    "\n",
    "Plus d'info sur le doc [ici](https://www.elastic.co/guide/en/elasticsearch/reference/current/docker.html)\n",
    "\n",
    "#### 🚧Attention à votre configuration Docker 🚧\n",
    "Elastic demande beaucoup de ressource à votre docker (et donc à votre machine) il faut avoir au moins configurer 4GB de memoire que Docker peut utiliser. Vous pouvez aussi changer directement la configuration de la JVM des container avec le paramètre `ES_JAVA_OPTS=-Xms512m -Xmx512m` et le passer à `256m` ou bien `128m`. \n",
    "\n",
    "\n",
    "### 📟 Exercice [optionnel]\n",
    "\n",
    "**Ecrire un fichier `docker-compose.yml` avec un service Elasticsearch sur le port 9200 (un seul noeud) et un service Kibana sur le port 5601 ainsi qu'un network elnet**"
   ]
  },
  {
   "cell_type": "markdown",
   "metadata": {},
   "source": [
    "## Ping du container "
   ]
  },
  {
   "cell_type": "code",
   "execution_count": 13,
   "metadata": {},
   "outputs": [
    {
     "name": "stdout",
     "output_type": "stream",
     "text": [
      "b'{\\n  \"name\" : \"c35c9fdd1fba\",\\n  \"cluster_name\" : \"docker-cluster\",\\n  \"cluster_uuid\" : \"bv9n3UhhQ_SCmUAkQfho1w\",\\n  \"version\" : {\\n    \"number\" : \"7.11.1\",\\n    \"build_flavor\" : \"default\",\\n    \"build_type\" : \"docker\",\\n    \"build_hash\" : \"ff17057114c2199c9c1bbecc727003a907c0db7a\",\\n    \"build_date\" : \"2021-02-15T13:44:09.394032Z\",\\n    \"build_snapshot\" : false,\\n    \"lucene_version\" : \"8.7.0\",\\n    \"minimum_wire_compatibility_version\" : \"6.8.0\",\\n    \"minimum_index_compatibility_version\" : \"6.0.0-beta1\"\\n  },\\n  \"tagline\" : \"You Know, for Search\"\\n}\\n'\n"
     ]
    }
   ],
   "source": [
    "import requests\n",
    "res = requests.get('http://localhost:9200')\n",
    "print(res.content)"
   ]
  },
  {
   "cell_type": "code",
   "execution_count": 14,
   "metadata": {},
   "outputs": [],
   "source": [
    "es = Elasticsearch('http://localhost:9200')"
   ]
  },
  {
   "cell_type": "code",
   "execution_count": 15,
   "metadata": {},
   "outputs": [
    {
     "name": "stdout",
     "output_type": "stream",
     "text": [
      "True\n",
      "{'acknowledged': True}\n"
     ]
    }
   ],
   "source": [
    "## Create, delete and verify index\n",
    "\n",
    "#create\n",
    "es.indices.create(index=\"first_index\",ignore=400)\n",
    "\n",
    "#verify\n",
    "print(es.indices.exists(index=\"first_index\"))\n",
    "\n",
    "#delete\n",
    "print(es.indices.delete(index=\"first_index\", ignore=[400,404]))\n"
   ]
  },
  {
   "cell_type": "code",
   "execution_count": 16,
   "metadata": {},
   "outputs": [
    {
     "data": {
      "text/plain": [
       "{'_index': 'cities',\n",
       " '_type': 'places',\n",
       " '_id': '3',\n",
       " '_version': 1,\n",
       " 'result': 'created',\n",
       " '_shards': {'total': 2, 'successful': 1, 'failed': 0},\n",
       " '_seq_no': 2,\n",
       " '_primary_term': 1}"
      ]
     },
     "execution_count": 16,
     "metadata": {},
     "output_type": "execute_result"
    }
   ],
   "source": [
    "## Insert documents\n",
    "\n",
    "#documents to insert in the elasticsearch index \"cities\"\n",
    "doc1 = {\"city\":\"New Delhi\", \"country\":\"India\"}\n",
    "doc2 = {\"city\":\"London\", \"country\":\"England\"}\n",
    "doc3 = {\"city\":\"Los Angeles\", \"country\":\"USA\"}\n",
    "\n",
    "#Inserting doc1 in id=1\n",
    "es.index(index=\"cities\", doc_type=\"places\", id=1, body=doc1)\n",
    "\n",
    "#Inserting doc2 in id=2\n",
    "es.index(index=\"cities\", doc_type=\"places\", id=2, body=doc2)\n",
    "\n",
    "#Inserting doc3 in id=3\n",
    "es.index(index=\"cities\", doc_type=\"places\", id=3, body=doc3)\n"
   ]
  },
  {
   "cell_type": "markdown",
   "metadata": {},
   "source": [
    "### 📟 Exercice [optionnel]\n",
    "Trouver la fonction qui vérifie que votre index est bien crée.  "
   ]
  },
  {
   "cell_type": "code",
   "execution_count": 17,
   "metadata": {},
   "outputs": [
    {
     "data": {
      "text/plain": [
       "True"
      ]
     },
     "execution_count": 17,
     "metadata": {},
     "output_type": "execute_result"
    }
   ],
   "source": [
    "es.indices.exists(index=\"cities\")"
   ]
  },
  {
   "cell_type": "markdown",
   "metadata": {},
   "source": [
    "### Retrieve data with id : `get`"
   ]
  },
  {
   "cell_type": "code",
   "execution_count": 18,
   "metadata": {},
   "outputs": [
    {
     "data": {
      "text/plain": [
       "{'_index': 'cities',\n",
       " '_type': 'places',\n",
       " '_id': '2',\n",
       " '_version': 1,\n",
       " '_seq_no': 1,\n",
       " '_primary_term': 1,\n",
       " 'found': True,\n",
       " '_source': {'city': 'London', 'country': 'England'}}"
      ]
     },
     "execution_count": 18,
     "metadata": {},
     "output_type": "execute_result"
    }
   ],
   "source": [
    "res = es.get(index=\"cities\", doc_type=\"places\", id=2)\n",
    "res"
   ]
  },
  {
   "cell_type": "markdown",
   "metadata": {},
   "source": [
    "### 📟 Exercice [optionnel]\n",
    "Afficher uniquement les informations ci-dessous à partir de la variable `res` "
   ]
  },
  {
   "cell_type": "code",
   "execution_count": 19,
   "metadata": {},
   "outputs": [
    {
     "data": {
      "text/plain": [
       "{'city': 'London', 'country': 'England'}"
      ]
     },
     "execution_count": 19,
     "metadata": {},
     "output_type": "execute_result"
    }
   ],
   "source": [
    "res[\"_source\"]"
   ]
  },
  {
   "cell_type": "markdown",
   "metadata": {},
   "source": [
    "### Mapping"
   ]
  },
  {
   "cell_type": "code",
   "execution_count": 20,
   "metadata": {},
   "outputs": [
    {
     "data": {
      "text/plain": [
       "{'cities': {'mappings': {'properties': {'city': {'type': 'text',\n",
       "     'fields': {'keyword': {'type': 'keyword', 'ignore_above': 256}}},\n",
       "    'country': {'type': 'text',\n",
       "     'fields': {'keyword': {'type': 'keyword', 'ignore_above': 256}}}}}}}"
      ]
     },
     "execution_count": 20,
     "metadata": {},
     "output_type": "execute_result"
    }
   ],
   "source": [
    "es.indices.get_mapping(index='cities')"
   ]
  },
  {
   "cell_type": "markdown",
   "metadata": {},
   "source": [
    "More about mappings: https://www.elastic.co/guide/en/elasticsearch/reference/current/mapping.html"
   ]
  },
  {
   "cell_type": "markdown",
   "metadata": {},
   "source": [
    "## Le endpoint `_search` et les `query`\n",
    "\n",
    "Pour la suite des exemple assurez vous d'avoir importer les data via la `_bulk api`"
   ]
  },
  {
   "cell_type": "code",
   "execution_count": 21,
   "metadata": {},
   "outputs": [
    {
     "data": {
      "text/plain": [
       "{'took': 215,\n",
       " 'timed_out': False,\n",
       " '_shards': {'total': 1, 'successful': 1, 'skipped': 0, 'failed': 0},\n",
       " 'hits': {'total': {'value': 3, 'relation': 'eq'},\n",
       "  'max_score': 1.0,\n",
       "  'hits': [{'_index': 'cities',\n",
       "    '_type': 'places',\n",
       "    '_id': '1',\n",
       "    '_score': 1.0,\n",
       "    '_source': {'city': 'New Delhi', 'country': 'India'}},\n",
       "   {'_index': 'cities',\n",
       "    '_type': 'places',\n",
       "    '_id': '2',\n",
       "    '_score': 1.0,\n",
       "    '_source': {'city': 'London', 'country': 'England'}},\n",
       "   {'_index': 'cities',\n",
       "    '_type': 'places',\n",
       "    '_id': '3',\n",
       "    '_score': 1.0,\n",
       "    '_source': {'city': 'Los Angeles', 'country': 'USA'}}]}}"
      ]
     },
     "execution_count": 21,
     "metadata": {},
     "output_type": "execute_result"
    }
   ],
   "source": [
    "res = es.search(index=\"cities\", body={\"query\":{\"match_all\":{}}})\n",
    "res"
   ]
  },
  {
   "cell_type": "markdown",
   "metadata": {},
   "source": [
    "### 📟 Exercice [optionnel]\n",
    "Afficher uniquement les informations ci-dessous à partir de la variable `res` "
   ]
  },
  {
   "cell_type": "code",
   "execution_count": 22,
   "metadata": {},
   "outputs": [
    {
     "data": {
      "text/plain": [
       "[{'_index': 'cities',\n",
       "  '_type': 'places',\n",
       "  '_id': '1',\n",
       "  '_score': 1.0,\n",
       "  '_source': {'city': 'New Delhi', 'country': 'India'}},\n",
       " {'_index': 'cities',\n",
       "  '_type': 'places',\n",
       "  '_id': '2',\n",
       "  '_score': 1.0,\n",
       "  '_source': {'city': 'London', 'country': 'England'}},\n",
       " {'_index': 'cities',\n",
       "  '_type': 'places',\n",
       "  '_id': '3',\n",
       "  '_score': 1.0,\n",
       "  '_source': {'city': 'Los Angeles', 'country': 'USA'}}]"
      ]
     },
     "execution_count": 22,
     "metadata": {},
     "output_type": "execute_result"
    }
   ],
   "source": [
    "res[\"hits\"][\"hits\"]"
   ]
  },
  {
   "cell_type": "markdown",
   "metadata": {},
   "source": [
    "### Affiner ces critères de recherche avec `_source`"
   ]
  },
  {
   "cell_type": "code",
   "execution_count": 24,
   "metadata": {
    "scrolled": true
   },
   "outputs": [
    {
     "data": {
      "text/plain": [
       "{'took': 808,\n",
       " 'timed_out': False,\n",
       " '_shards': {'total': 1, 'successful': 1, 'skipped': 0, 'failed': 0},\n",
       " 'hits': {'total': {'value': 56, 'relation': 'eq'},\n",
       "  'max_score': 5.019411,\n",
       "  'hits': [{'_index': 'movies',\n",
       "    '_type': 'movie',\n",
       "    '_id': '3378',\n",
       "    '_score': 5.019411,\n",
       "    '_source': {'fields': {'directors': ['George Miller', 'George Ogilvie'],\n",
       "      'title': 'Mad Max Beyond Thunderdome'}}},\n",
       "   {'_index': 'movies',\n",
       "    '_type': 'movie',\n",
       "    '_id': '226',\n",
       "    '_score': 4.6606607,\n",
       "    '_source': {'fields': {'directors': ['George Lucas'],\n",
       "      'title': 'Star Wars'}}},\n",
       "   {'_index': 'movies',\n",
       "    '_type': 'movie',\n",
       "    '_id': '371',\n",
       "    '_score': 4.6606607,\n",
       "    '_source': {'fields': {'directors': ['George Lucas'],\n",
       "      'title': 'Star Wars: Episode III - Revenge of the Sith'}}},\n",
       "   {'_index': 'movies',\n",
       "    '_type': 'movie',\n",
       "    '_id': '469',\n",
       "    '_score': 4.6606607,\n",
       "    '_source': {'fields': {'directors': ['George Lucas'],\n",
       "      'title': 'Star Wars: Episode I - The Phantom Menace'}}},\n",
       "   {'_index': 'movies',\n",
       "    '_type': 'movie',\n",
       "    '_id': '475',\n",
       "    '_score': 4.6606607,\n",
       "    '_source': {'fields': {'directors': ['George Clooney'],\n",
       "      'title': 'The Monuments Men'}}},\n",
       "   {'_index': 'movies',\n",
       "    '_type': 'movie',\n",
       "    '_id': '690',\n",
       "    '_score': 4.6606607,\n",
       "    '_source': {'fields': {'directors': ['George Clooney'],\n",
       "      'title': 'The Ides of March'}}},\n",
       "   {'_index': 'movies',\n",
       "    '_type': 'movie',\n",
       "    '_id': '875',\n",
       "    '_score': 4.6606607,\n",
       "    '_source': {'fields': {'directors': ['George Miller'],\n",
       "      'title': 'Mad Max: Fury Road'}}},\n",
       "   {'_index': 'movies',\n",
       "    '_type': 'movie',\n",
       "    '_id': '922',\n",
       "    '_score': 4.6606607,\n",
       "    '_source': {'fields': {'directors': ['George Lucas'],\n",
       "      'title': 'Star Wars: Episode II - Attack of the Clones'}}},\n",
       "   {'_index': 'movies',\n",
       "    '_type': 'movie',\n",
       "    '_id': '1165',\n",
       "    '_score': 4.6606607,\n",
       "    '_source': {'fields': {'directors': ['George Lucas'],\n",
       "      'title': 'American Graffiti'}}},\n",
       "   {'_index': 'movies',\n",
       "    '_type': 'movie',\n",
       "    '_id': '1183',\n",
       "    '_score': 4.6606607,\n",
       "    '_source': {'fields': {'directors': ['George Nolfi'],\n",
       "      'title': 'The Adjustment Bureau'}}}]}}"
      ]
     },
     "execution_count": 24,
     "metadata": {},
     "output_type": "execute_result"
    }
   ],
   "source": [
    "es.search(index=\"movies\", body={\n",
    "  \"_source\": {\n",
    "    \"includes\": [\n",
    "      \"*.title\",\n",
    "      \"*.directors\"\n",
    "    ],\n",
    "    \"excludes\": [\n",
    "      \"*.actors*\",\n",
    "      \"*.genres\"\n",
    "    ]\n",
    "  },\n",
    "  \"query\": {\n",
    "    \"match\": {\n",
    "      \"fields.directors\": \"George\"\n",
    "    }\n",
    "  }\n",
    "})"
   ]
  },
  {
   "cell_type": "markdown",
   "metadata": {},
   "source": [
    "### Logique booléenne "
   ]
  },
  {
   "cell_type": "code",
   "execution_count": 25,
   "metadata": {
    "scrolled": true
   },
   "outputs": [
    {
     "data": {
      "text/plain": [
       "{'took': 513,\n",
       " 'timed_out': False,\n",
       " '_shards': {'total': 1, 'successful': 1, 'skipped': 0, 'failed': 0},\n",
       " 'hits': {'total': {'value': 4, 'relation': 'eq'},\n",
       "  'max_score': 17.335049,\n",
       "  'hits': [{'_index': 'movies',\n",
       "    '_type': 'movie',\n",
       "    '_id': '226',\n",
       "    '_score': 17.335049,\n",
       "    '_source': {'fields': {'directors': ['George Lucas'],\n",
       "      'release_date': '1977-05-25T00:00:00Z',\n",
       "      'rating': 8.7,\n",
       "      'genres': ['Action', 'Adventure', 'Fantasy', 'Sci-Fi'],\n",
       "      'image_url': 'http://ia.media-imdb.com/images/M/MV5BMTU4NTczODkwM15BMl5BanBnXkFtZTcwMzEyMTIyMw@@._V1_SX400_.jpg',\n",
       "      'plot': \"Luke Skywalker joins forces with a Jedi Knight, a cocky pilot, a wookiee and two droids to save the universe from the Empire's world-destroying battle-station, while also attempting to rescue Princess Leia from the evil Darth Vader.\",\n",
       "      'title': 'Star Wars',\n",
       "      'rank': 226,\n",
       "      'running_time_secs': 7260,\n",
       "      'actors': ['Mark Hamill', 'Harrison Ford', 'Carrie Fisher'],\n",
       "      'year': 1977},\n",
       "     'id': 'tt0076759',\n",
       "     'type': 'add'}},\n",
       "   {'_index': 'movies',\n",
       "    '_type': 'movie',\n",
       "    '_id': '469',\n",
       "    '_score': 11.513107,\n",
       "    '_source': {'fields': {'directors': ['George Lucas'],\n",
       "      'release_date': '1999-05-19T00:00:00Z',\n",
       "      'rating': 6.5,\n",
       "      'genres': ['Action', 'Adventure', 'Fantasy', 'Sci-Fi'],\n",
       "      'image_url': 'http://ia.media-imdb.com/images/M/MV5BMTQ4NjEwNDA2Nl5BMl5BanBnXkFtZTcwNDUyNDQzNw@@._V1_SX400_.jpg',\n",
       "      'plot': 'Two Jedi Knights escape a hostile blockade to find allies and come across a young boy who may bring balance to the Force, but the long dormant Sith resurface to reclaim their old glory.',\n",
       "      'title': 'Star Wars: Episode I - The Phantom Menace',\n",
       "      'rank': 469,\n",
       "      'running_time_secs': 8160,\n",
       "      'actors': ['Ewan McGregor', 'Liam Neeson', 'Natalie Portman'],\n",
       "      'year': 1999},\n",
       "     'id': 'tt0120915',\n",
       "     'type': 'add'}},\n",
       "   {'_index': 'movies',\n",
       "    '_type': 'movie',\n",
       "    '_id': '371',\n",
       "    '_score': 10.936544,\n",
       "    '_source': {'fields': {'directors': ['George Lucas'],\n",
       "      'release_date': '2005-05-15T00:00:00Z',\n",
       "      'rating': 7.7,\n",
       "      'genres': ['Action', 'Adventure', 'Fantasy', 'Sci-Fi'],\n",
       "      'image_url': 'http://ia.media-imdb.com/images/M/MV5BNTc4MTc3NTQ5OF5BMl5BanBnXkFtZTcwOTg0NjI4NA@@._V1_SX400_.jpg',\n",
       "      'plot': \"After three years of fighting in the Clone Wars, Anakin Skywalker falls prey to the Sith Lord's lies and makes an enemy of the Jedi and those he loves, concluding his journey to the Dark Side.\",\n",
       "      'title': 'Star Wars: Episode III - Revenge of the Sith',\n",
       "      'rank': 371,\n",
       "      'running_time_secs': 8400,\n",
       "      'actors': ['Hayden Christensen', 'Natalie Portman', 'Ewan McGregor'],\n",
       "      'year': 2005},\n",
       "     'id': 'tt0121766',\n",
       "     'type': 'add'}},\n",
       "   {'_index': 'movies',\n",
       "    '_type': 'movie',\n",
       "    '_id': '922',\n",
       "    '_score': 10.936544,\n",
       "    '_source': {'fields': {'directors': ['George Lucas'],\n",
       "      'release_date': '2002-05-16T00:00:00Z',\n",
       "      'rating': 6.7,\n",
       "      'genres': ['Action', 'Adventure', 'Fantasy', 'Sci-Fi'],\n",
       "      'image_url': 'http://ia.media-imdb.com/images/M/MV5BMTY5MjI5NTIwNl5BMl5BanBnXkFtZTYwMTM1Njg2._V1_SX400_.jpg',\n",
       "      'plot': 'Ten years later, Anakin Skywalker shares a forbidden romance with Padmé, while Obi-Wan investigates an assassination attempt on the Princess and discovers a secret clone army crafted for the Jedi.',\n",
       "      'title': 'Star Wars: Episode II - Attack of the Clones',\n",
       "      'rank': 922,\n",
       "      'running_time_secs': 8520,\n",
       "      'actors': ['Hayden Christensen', 'Natalie Portman', 'Ewan McGregor'],\n",
       "      'year': 2002},\n",
       "     'id': 'tt0121765',\n",
       "     'type': 'add'}}]}}"
      ]
     },
     "execution_count": 25,
     "metadata": {},
     "output_type": "execute_result"
    }
   ],
   "source": [
    "es.search(index=\"movies\", body=\n",
    "{\n",
    "  \"query\": {\n",
    "    \"bool\": {\n",
    "      \"must\": [\n",
    "        {\n",
    "          \"match\": {\n",
    "            \"fields.directors\": \"George\"\n",
    "          }\n",
    "        },\n",
    "        {\n",
    "          \"match\": {\n",
    "            \"fields.title\": \"Star Wars\"\n",
    "          }\n",
    "        }\n",
    "      ]\n",
    "    }\n",
    "  }\n",
    "})\n"
   ]
  },
  {
   "cell_type": "markdown",
   "metadata": {},
   "source": [
    "### Les critères : SHOULD / MUST"
   ]
  },
  {
   "cell_type": "code",
   "execution_count": 26,
   "metadata": {},
   "outputs": [
    {
     "data": {
      "text/plain": [
       "{'took': 113,\n",
       " 'timed_out': False,\n",
       " '_shards': {'total': 1, 'successful': 1, 'skipped': 0, 'failed': 0},\n",
       " 'hits': {'total': {'value': 25, 'relation': 'eq'},\n",
       "  'max_score': 13.803417,\n",
       "  'hits': [{'_index': 'movies',\n",
       "    '_type': 'movie',\n",
       "    '_id': '168',\n",
       "    '_score': 13.803417,\n",
       "    '_source': {'fields': {'directors': ['J.J. Abrams'],\n",
       "      'release_date': '2015-01-01T00:00:00Z',\n",
       "      'genres': ['Action', 'Adventure', 'Fantasy', 'Sci-Fi'],\n",
       "      'plot': 'A continuation of the saga created by George Lucas.',\n",
       "      'title': 'Star Wars: Episode VII',\n",
       "      'rank': 168,\n",
       "      'year': 2015,\n",
       "      'actors': ['Mark Hamill', 'Harrison Ford', 'Carrie Fisher']},\n",
       "     'id': 'tt2488496',\n",
       "     'type': 'add'}},\n",
       "   {'_index': 'movies',\n",
       "    '_type': 'movie',\n",
       "    '_id': '128',\n",
       "    '_score': 11.640135,\n",
       "    '_source': {'fields': {'directors': ['J.J. Abrams'],\n",
       "      'release_date': '2009-04-06T00:00:00Z',\n",
       "      'rating': 8,\n",
       "      'genres': ['Action', 'Adventure', 'Sci-Fi'],\n",
       "      'image_url': 'http://ia.media-imdb.com/images/M/MV5BMjE5NDQ5OTE4Ml5BMl5BanBnXkFtZTcwOTE3NDIzMw@@._V1_SX400_.jpg',\n",
       "      'plot': \"The brash James T. Kirk tries to live up to his father's legacy with Mr. Spock keeping him in check as a vengeful, time-traveling Romulan creates black holes to destroy the Federation one planet at a time.\",\n",
       "      'title': 'Star Trek',\n",
       "      'rank': 128,\n",
       "      'running_time_secs': 7620,\n",
       "      'actors': ['Chris Pine', 'Zachary Quinto', 'Simon Pegg'],\n",
       "      'year': 2009},\n",
       "     'id': 'tt0796366',\n",
       "     'type': 'add'}},\n",
       "   {'_index': 'movies',\n",
       "    '_type': 'movie',\n",
       "    '_id': '1871',\n",
       "    '_score': 11.640135,\n",
       "    '_source': {'fields': {'directors': ['John Sayles'],\n",
       "      'release_date': '1996-06-21T00:00:00Z',\n",
       "      'rating': 7.5,\n",
       "      'genres': ['Drama', 'Mystery', 'Romance'],\n",
       "      'image_url': 'http://ia.media-imdb.com/images/M/MV5BMTU3OTI2OTk0N15BMl5BanBnXkFtZTcwMTU3OTYxMQ@@._V1_SX400_.jpg',\n",
       "      'plot': 'When the skeleton of his murdered predecessor is found, Sheriff Sam Deeds unearths many other long-buried secrets in his Texas border town.',\n",
       "      'title': 'Lone Star',\n",
       "      'rank': 1871,\n",
       "      'running_time_secs': 8100,\n",
       "      'actors': ['Chris Cooper', 'Elizabeth Peña', 'Stephen Mendillo'],\n",
       "      'year': 1996},\n",
       "     'id': 'tt0116905',\n",
       "     'type': 'add'}},\n",
       "   {'_index': 'movies',\n",
       "    '_type': 'movie',\n",
       "    '_id': '2357',\n",
       "    '_score': 11.640135,\n",
       "    '_source': {'fields': {'directors': ['John Carpenter'],\n",
       "      'release_date': '1974-04-01T00:00:00Z',\n",
       "      'rating': 6.4,\n",
       "      'genres': ['Comedy', 'Sci-Fi'],\n",
       "      'image_url': 'http://ia.media-imdb.com/images/M/MV5BMTUwODkwMzk1M15BMl5BanBnXkFtZTcwMjc4ODY3Mw@@._V1_SX400_.jpg',\n",
       "      'plot': 'In the far reaches of space, a small crew, 20 years into their solitary mission, find things beginning to go hilariously wrong.',\n",
       "      'title': 'Dark Star',\n",
       "      'rank': 2357,\n",
       "      'running_time_secs': 4980,\n",
       "      'actors': [\"Dan O'Bannon\", 'Dre Pahich', 'Brian Narelle'],\n",
       "      'year': 1974},\n",
       "     'id': 'tt0069945',\n",
       "     'type': 'add'}},\n",
       "   {'_index': 'movies',\n",
       "    '_type': 'movie',\n",
       "    '_id': '2509',\n",
       "    '_score': 11.640135,\n",
       "    '_source': {'fields': {'directors': ['Stephen Herek'],\n",
       "      'release_date': '2001-09-04T00:00:00Z',\n",
       "      'rating': 5.9,\n",
       "      'genres': ['Comedy', 'Drama', 'Music'],\n",
       "      'image_url': 'http://ia.media-imdb.com/images/M/MV5BMjE4NTYyNTQ0M15BMl5BanBnXkFtZTcwNDYwMTAyMQ@@._V1_SX400_.jpg',\n",
       "      'plot': 'Lead singer of a tribute band becomes lead singer of the real band he idolizes.',\n",
       "      'title': 'Rock Star',\n",
       "      'rank': 2509,\n",
       "      'running_time_secs': 6300,\n",
       "      'actors': ['Mark Wahlberg', 'Jennifer Aniston', 'Dominic West'],\n",
       "      'year': 2001},\n",
       "     'id': 'tt0202470',\n",
       "     'type': 'add'}},\n",
       "   {'_index': 'movies',\n",
       "    '_type': 'movie',\n",
       "    '_id': '2571',\n",
       "    '_score': 11.640135,\n",
       "    '_source': {'fields': {'directors': ['Jane Campion'],\n",
       "      'release_date': '2009-05-15T00:00:00Z',\n",
       "      'rating': 6.9,\n",
       "      'genres': ['Biography', 'Drama', 'Romance'],\n",
       "      'image_url': 'http://ia.media-imdb.com/images/M/MV5BMTg0NjEwNDgxNF5BMl5BanBnXkFtZTcwMjkyOTM3Mg@@._V1_SX400_.jpg',\n",
       "      'plot': 'The three-year romance between 19th century poet John Keats and Fanny Brawne.',\n",
       "      'title': 'Bright Star',\n",
       "      'rank': 2571,\n",
       "      'running_time_secs': 7140,\n",
       "      'actors': ['Abbie Cornish', 'Ben Whishaw', 'Paul Schneider'],\n",
       "      'year': 2009},\n",
       "     'id': 'tt0810784',\n",
       "     'type': 'add'}},\n",
       "   {'_index': 'movies',\n",
       "    '_type': 'movie',\n",
       "    '_id': '1921',\n",
       "    '_score': 9.949487,\n",
       "    '_source': {'fields': {'directors': ['Stuart Baird'],\n",
       "      'release_date': '2002-12-09T00:00:00Z',\n",
       "      'rating': 6.3,\n",
       "      'genres': ['Action', 'Adventure', 'Sci-Fi', 'Thriller'],\n",
       "      'image_url': 'http://ia.media-imdb.com/images/M/MV5BMjAxNjY2NDY3NF5BMl5BanBnXkFtZTcwMjA0MTEzMw@@._V1_SX400_.jpg',\n",
       "      'plot': 'After the Enterprise is diverted to the Romulan planet of Romulus, supposedly because they want to negotiate a truce, the Federation soon find out the Romulans are planning an attack on Earth.',\n",
       "      'title': 'Star Trek: Nemesis',\n",
       "      'rank': 1921,\n",
       "      'running_time_secs': 6960,\n",
       "      'actors': ['Patrick Stewart', 'Jonathan Frakes', 'Brent Spiner'],\n",
       "      'year': 2002},\n",
       "     'id': 'tt0253754',\n",
       "     'type': 'add'}},\n",
       "   {'_index': 'movies',\n",
       "    '_type': 'movie',\n",
       "    '_id': '2041',\n",
       "    '_score': 9.949487,\n",
       "    '_source': {'fields': {'directors': ['David Carson'],\n",
       "      'release_date': '1994-11-17T00:00:00Z',\n",
       "      'rating': 6.5,\n",
       "      'genres': ['Action', 'Adventure', 'Sci-Fi', 'Thriller'],\n",
       "      'image_url': 'http://ia.media-imdb.com/images/M/MV5BOTMyODkyODk1MV5BMl5BanBnXkFtZTcwNjk5MzI4OA@@._V1_SX400_.jpg',\n",
       "      'plot': 'Captain Picard, with the help of supposedly dead Captain Kirk, must stop a madman willing to murder on a planetary scale in order to enter a space matrix.',\n",
       "      'title': 'Star Trek: Generations',\n",
       "      'rank': 2041,\n",
       "      'running_time_secs': 7080,\n",
       "      'actors': ['Patrick Stewart', 'William Shatner', 'Malcolm McDowell'],\n",
       "      'year': 1994},\n",
       "     'id': 'tt0111280',\n",
       "     'type': 'add'}},\n",
       "   {'_index': 'movies',\n",
       "    '_type': 'movie',\n",
       "    '_id': '2236',\n",
       "    '_score': 9.949487,\n",
       "    '_source': {'fields': {'directors': ['Jonathan Frakes'],\n",
       "      'release_date': '1998-12-11T00:00:00Z',\n",
       "      'rating': 6.3,\n",
       "      'genres': ['Action', 'Adventure', 'Sci-Fi', 'Thriller'],\n",
       "      'image_url': 'http://ia.media-imdb.com/images/M/MV5BMjA3NDI5MzQ1OF5BMl5BanBnXkFtZTcwMzcxNDI4OA@@._V1_SX400_.jpg',\n",
       "      'plot': 'When the crew of the Enterprise learn of a Federation plot against the inhabitants of a unique planet, Captain Picard begins an open rebellion.',\n",
       "      'title': 'Star Trek: Insurrection',\n",
       "      'rank': 2236,\n",
       "      'running_time_secs': 6180,\n",
       "      'actors': ['Patrick Stewart', 'Jonathan Frakes', 'Brent Spiner'],\n",
       "      'year': 1998},\n",
       "     'id': 'tt0120844',\n",
       "     'type': 'add'}},\n",
       "   {'_index': 'movies',\n",
       "    '_type': 'movie',\n",
       "    '_id': '2885',\n",
       "    '_score': 9.949487,\n",
       "    '_source': {'fields': {'directors': ['Rupert Wyatt'],\n",
       "      'genres': ['Action', 'Adventure', 'Sci-Fi', 'Thriller'],\n",
       "      'title': 'Star Trek 3',\n",
       "      'rank': 2885},\n",
       "     'id': 'tt2660888',\n",
       "     'type': 'add'}}]}}"
      ]
     },
     "execution_count": 26,
     "metadata": {},
     "output_type": "execute_result"
    }
   ],
   "source": [
    "es.search(index=\"movies\", body=\n",
    "{\n",
    "  \"query\": {\n",
    "    \"bool\": {\n",
    "      \"must\": [\n",
    "                  { \"match\": { \"fields.title\": \"Star Wars\"}}\n",
    "                  \n",
    "      ],\n",
    "      \"must_not\": { \"match\": { \"fields.directors\": \"George Miller\" }},\n",
    "      \"should\": [\n",
    "                  { \"match\": { \"fields.title\": \"Star\" }},\n",
    "                  { \"match\": { \"fields.directors\": \"George Lucas\"}}\n",
    "      ]\n",
    "    }\n",
    "  }\n",
    "})"
   ]
  },
  {
   "cell_type": "markdown",
   "metadata": {},
   "source": [
    "### Filtrer ses query avec `filter` \n",
    "\n",
    "On cherche ici les recettes avec un ingrédient de type `parmesan` sans ingrédient `tuna` en filtrant les recettes avec un temps de préparation inférieur ou egale à 15minutes.  "
   ]
  },
  {
   "cell_type": "code",
   "execution_count": 27,
   "metadata": {
    "scrolled": true
   },
   "outputs": [
    {
     "data": {
      "text/plain": [
       "{'took': 415,\n",
       " 'timed_out': False,\n",
       " '_shards': {'total': 1, 'successful': 1, 'skipped': 0, 'failed': 0},\n",
       " 'hits': {'total': {'value': 2, 'relation': 'eq'},\n",
       "  'max_score': 1.379573,\n",
       "  'hits': [{'_index': 'receipe',\n",
       "    '_type': '_doc',\n",
       "    '_id': '1',\n",
       "    '_score': 1.379573,\n",
       "    '_source': {'title': 'Fast and Easy Pasta With Blistered Cherry Tomato Sauce',\n",
       "     'description': \"Cherry tomatoes are almost always sweeter, riper, and higher in pectin than larger tomatoes at the supermarket. All of these factors mean that cherry tomatoes are fantastic for making a rich, thick, flavorful sauce. Even better: It takes only four ingredients and about 10 minutes, start to finish—less time than it takes to cook the pasta you're gonna serve it with.\",\n",
       "     'preparation_time_minutes': 12,\n",
       "     'servings': {'min': 4, 'max': 6},\n",
       "     'steps': ['Place pasta in a large skillet or sauté pan and cover with water and a big pinch of salt. Bring to a boil over high heat, stirring occasionally. Boil until just shy of al dente, about 1 minute less than the package instructions recommend.',\n",
       "      'Meanwhile, heat garlic and 4 tablespoons (60ml) olive oil in a 12-inch skillet over medium heat, stirring frequently, until garlic is softened but not browned, about 3 minutes. Add tomatoes and cook, stirring, until tomatoes begin to burst. You can help them along by pressing on them with the back of a wooden spoon as they soften.',\n",
       "      'Continue to cook until sauce is rich and creamy, about 5 minutes longer. Stir in basil and season to taste with salt and pepper.',\n",
       "      'When pasta is cooked, drain, reserving 1 cup of pasta water. Add pasta to sauce and increase heat to medium-high. Cook, stirring and tossing constantly and adding reserved pasta water as necessary to adjust consistency to a nice, creamy flow. Remove from heat, stir in remaining 2 tablespoons (30ml) olive oil, and grate in a generous shower of Parmesan cheese. Serve immediately, passing extra Parmesan at the table.'],\n",
       "     'ingredients': [{'name': 'Dry pasta', 'quantity': '450g'},\n",
       "      {'name': 'Kosher salt'},\n",
       "      {'name': 'Cloves garlic', 'quantity': '4'},\n",
       "      {'name': 'Extra-virgin olive oil', 'quantity': '90ml'},\n",
       "      {'name': 'Cherry tomatoes', 'quantity': '750g'},\n",
       "      {'name': 'Fresh basil leaves', 'quantity': '30g'},\n",
       "      {'name': 'Freshly ground black pepper'},\n",
       "      {'name': 'Parmesan cheese'}],\n",
       "     'created': '2017/03/29',\n",
       "     'ratings': [4.5, 5.0, 3.0, 4.5]}},\n",
       "   {'_index': 'receipe',\n",
       "    '_type': '_doc',\n",
       "    '_id': '10',\n",
       "    '_score': 1.2786832,\n",
       "    '_source': {'title': 'Penne With Hot-As-You-Dare Arrabbiata Sauce',\n",
       "     'description': 'Exceedingly simple in concept and execution, arrabbiata sauce is tomato sauce with the distinction of being spicy enough to earn its \"angry\" moniker. Here\\'s how to make it, from start to finish.',\n",
       "     'preparation_time_minutes': 15,\n",
       "     'servings': {'min': 4, 'max': 4},\n",
       "     'steps': ['In a medium saucepan of boiling salted water, cook penne until just short of al dente, about 1 minute less than the package recommends.',\n",
       "      'Meanwhile, in a large skillet, combine oil, garlic, and pepper flakes. Cook over medium heat until garlic is very lightly golden, about 5 minutes. (Adjust heat as necessary to keep it gently sizzling.)',\n",
       "      'Add tomatoes, stir to combine, and bring to a bare simmer. When pasta is ready, transfer it to sauce using a strainer or slotted spoon. (Alternatively, drain pasta through a colander, reserving 1 cup of cooking water. Add drained pasta to sauce.)',\n",
       "      'Add about 1/4 cup pasta water to sauce and increase heat to bring pasta and sauce to a vigorous simmer. Cook, stirring and shaking the pan and adding more pasta water as necessary to keep sauce loose, until pasta is perfectly al dente, 1 to 2 minutes longer. (The pasta will cook more slowly in the sauce than it did in the water.)',\n",
       "      'Continue cooking pasta until sauce thickens and begins to coat noodles, then remove from heat and toss in cheese and parsley, stirring vigorously to incorporate. Stir in a drizzle of fresh olive oil, if desired. Season with salt and serve right away, passing more cheese at the table.'],\n",
       "     'ingredients': [{'name': 'Kosher salt'},\n",
       "      {'name': 'Penne pasta', 'quantity': '450g'},\n",
       "      {'name': 'Extra-virgin olive oil', 'quantity': '3 tablespoons'},\n",
       "      {'name': 'Clove garlic', 'quantity': '1'},\n",
       "      {'name': 'Crushed red pepper'},\n",
       "      {'name': 'Can whole peeled tomatoes', 'quantity': '400g'},\n",
       "      {'name': 'Finely grated Parmesan cheese', 'quantity': '60g'},\n",
       "      {'name': 'Minced flat-leaf parsley leaves',\n",
       "       'quantity': 'Small handful'}],\n",
       "     'created': '2017/04/27',\n",
       "     'ratings': [1.5, 2.0, 4.0, 3.5, 3.0, 5.0, 1.5]}}]}}"
      ]
     },
     "execution_count": 27,
     "metadata": {},
     "output_type": "execute_result"
    }
   ],
   "source": [
    "es.search(index=\"receipe\", body={\n",
    "  \"query\": {\n",
    "    \"bool\": {\n",
    "      \"must\": [\n",
    "        {\n",
    "          \"match\": {\n",
    "            \"ingredients.name\": \"parmesan\"\n",
    "          }\n",
    "        }\n",
    "      ], \n",
    "      \"must_not\": [\n",
    "        {\n",
    "          \"match\": {\n",
    "            \"ingredients.name\": \"tuna\"\n",
    "          }\n",
    "        }\n",
    "      ], \n",
    "      \"filter\": [\n",
    "        {\n",
    "          \"range\":{\n",
    "            \"preparation_time_minutes\": {\n",
    "              \"lte\":15\n",
    "            }\n",
    "          }\n",
    "        }\n",
    "        ]\n",
    "    }\n",
    "  }\n",
    "})\n",
    "\n"
   ]
  },
  {
   "cell_type": "markdown",
   "metadata": {},
   "source": [
    "### Recherche avec un prefix \n",
    "\n",
    "Les query de type `prefix` permettent de trouver tout les termes commencant par le(s) caractère(s) correspondant.  "
   ]
  },
  {
   "cell_type": "code",
   "execution_count": 28,
   "metadata": {},
   "outputs": [
    {
     "data": {
      "text/plain": [
       "{'took': 227,\n",
       " 'timed_out': False,\n",
       " '_shards': {'total': 1, 'successful': 1, 'skipped': 0, 'failed': 0},\n",
       " 'hits': {'total': {'value': 2, 'relation': 'eq'},\n",
       "  'max_score': 1.0,\n",
       "  'hits': [{'_index': 'cities',\n",
       "    '_type': 'places',\n",
       "    '_id': '2',\n",
       "    '_score': 1.0,\n",
       "    '_source': {'city': 'London', 'country': 'England'}},\n",
       "   {'_index': 'cities',\n",
       "    '_type': 'places',\n",
       "    '_id': '3',\n",
       "    '_score': 1.0,\n",
       "    '_source': {'city': 'Los Angeles', 'country': 'USA'}}]}}"
      ]
     },
     "execution_count": 28,
     "metadata": {},
     "output_type": "execute_result"
    }
   ],
   "source": [
    "es.search(index=\"cities\", body={\"query\": {\"prefix\" : { \"city\" : \"l\" }}})"
   ]
  },
  {
   "cell_type": "markdown",
   "metadata": {},
   "source": [
    "### Rechercher avec des regex "
   ]
  },
  {
   "cell_type": "code",
   "execution_count": 29,
   "metadata": {},
   "outputs": [
    {
     "data": {
      "text/plain": [
       "{'took': 74,\n",
       " 'timed_out': False,\n",
       " '_shards': {'total': 1, 'successful': 1, 'skipped': 0, 'failed': 0},\n",
       " 'hits': {'total': {'value': 3, 'relation': 'eq'},\n",
       "  'max_score': 1.0,\n",
       "  'hits': [{'_index': 'cities',\n",
       "    '_type': 'places',\n",
       "    '_id': '1',\n",
       "    '_score': 1.0,\n",
       "    '_source': {'city': 'New Delhi', 'country': 'India'}},\n",
       "   {'_index': 'cities',\n",
       "    '_type': 'places',\n",
       "    '_id': '2',\n",
       "    '_score': 1.0,\n",
       "    '_source': {'city': 'London', 'country': 'England'}},\n",
       "   {'_index': 'cities',\n",
       "    '_type': 'places',\n",
       "    '_id': '3',\n",
       "    '_score': 1.0,\n",
       "    '_source': {'city': 'Los Angeles', 'country': 'USA'}}]}}"
      ]
     },
     "execution_count": 29,
     "metadata": {},
     "output_type": "execute_result"
    }
   ],
   "source": [
    "#tout afficher \n",
    "es.search(index=\"cities\", body={\"query\": {\"regexp\" : { \"city\" : \".*\" }}})"
   ]
  },
  {
   "cell_type": "code",
   "execution_count": 30,
   "metadata": {},
   "outputs": [
    {
     "data": {
      "text/plain": [
       "{'took': 12,\n",
       " 'timed_out': False,\n",
       " '_shards': {'total': 1, 'successful': 1, 'skipped': 0, 'failed': 0},\n",
       " 'hits': {'total': {'value': 2, 'relation': 'eq'},\n",
       "  'max_score': 1.0,\n",
       "  'hits': [{'_index': 'cities',\n",
       "    '_type': 'places',\n",
       "    '_id': '2',\n",
       "    '_score': 1.0,\n",
       "    '_source': {'city': 'London', 'country': 'England'}},\n",
       "   {'_index': 'cities',\n",
       "    '_type': 'places',\n",
       "    '_id': '3',\n",
       "    '_score': 1.0,\n",
       "    '_source': {'city': 'Los Angeles', 'country': 'USA'}}]}}"
      ]
     },
     "execution_count": 30,
     "metadata": {},
     "output_type": "execute_result"
    }
   ],
   "source": [
    "#afficher les cities qui commencent par L\n",
    "es.search(index=\"cities\", body={\"query\": {\"regexp\" : { \"city\" : \"l.*\" }}})"
   ]
  },
  {
   "cell_type": "code",
   "execution_count": 31,
   "metadata": {},
   "outputs": [
    {
     "data": {
      "text/plain": [
       "{'took': 2,\n",
       " 'timed_out': False,\n",
       " '_shards': {'total': 1, 'successful': 1, 'skipped': 0, 'failed': 0},\n",
       " 'hits': {'total': {'value': 1, 'relation': 'eq'},\n",
       "  'max_score': 1.0,\n",
       "  'hits': [{'_index': 'cities',\n",
       "    '_type': 'places',\n",
       "    '_id': '2',\n",
       "    '_score': 1.0,\n",
       "    '_source': {'city': 'London', 'country': 'England'}}]}}"
      ]
     },
     "execution_count": 31,
     "metadata": {},
     "output_type": "execute_result"
    }
   ],
   "source": [
    "#afficher les cities qui commencent par L et terminent par n \n",
    "es.search(index=\"cities\", body={\"query\": {\"regexp\" : { \"city\" : \"l.*n\" }}})"
   ]
  },
  {
   "cell_type": "markdown",
   "metadata": {},
   "source": [
    "### Agregation "
   ]
  },
  {
   "cell_type": "code",
   "execution_count": 32,
   "metadata": {},
   "outputs": [
    {
     "data": {
      "text/plain": [
       "{'nb_par_annee': {'doc_count_error_upper_bound': 0,\n",
       "  'sum_other_doc_count': 2192,\n",
       "  'buckets': [{'key': 2013, 'doc_count': 448},\n",
       "   {'key': 2012, 'doc_count': 404},\n",
       "   {'key': 2011, 'doc_count': 308},\n",
       "   {'key': 2009, 'doc_count': 253},\n",
       "   {'key': 2010, 'doc_count': 249},\n",
       "   {'key': 2008, 'doc_count': 207},\n",
       "   {'key': 2006, 'doc_count': 204},\n",
       "   {'key': 2007, 'doc_count': 200},\n",
       "   {'key': 2005, 'doc_count': 170},\n",
       "   {'key': 2014, 'doc_count': 152}]}}"
      ]
     },
     "execution_count": 32,
     "metadata": {},
     "output_type": "execute_result"
    }
   ],
   "source": [
    "#agregation simple -> movies/years\n",
    "res = es.search(index=\"movies\",body={\"aggs\" : {\n",
    "    \"nb_par_annee\" : {\n",
    "        \"terms\" : {\"field\" : \"fields.year\"}\n",
    "}}})\n",
    "res['aggregations']"
   ]
  },
  {
   "cell_type": "code",
   "execution_count": 33,
   "metadata": {},
   "outputs": [
    {
     "data": {
      "text/plain": [
       "{'note_moyenne': {'value': 6.387107691895831}}"
      ]
     },
     "execution_count": 33,
     "metadata": {},
     "output_type": "execute_result"
    }
   ],
   "source": [
    "#agregation et stats simple -> moyennes des raitings \n",
    "res = es.search(index=\"movies\",body={\"aggs\" : {\n",
    "    \"note_moyenne\" : {\n",
    "        \"avg\" : {\"field\" : \"fields.rating\"}\n",
    "}}})\n",
    "res['aggregations']"
   ]
  },
  {
   "cell_type": "code",
   "execution_count": 34,
   "metadata": {
    "scrolled": true
   },
   "outputs": [
    {
     "data": {
      "text/plain": [
       "{'group_year': {'doc_count_error_upper_bound': 0,\n",
       "  'sum_other_doc_count': 2192,\n",
       "  'buckets': [{'key': 2013,\n",
       "    'doc_count': 448,\n",
       "    'note_max': {'value': 8.699999809265137},\n",
       "    'note_moyenne': {'value': 5.962700002789497},\n",
       "    'note_min': {'value': 2.5}},\n",
       "   {'key': 2012,\n",
       "    'doc_count': 404,\n",
       "    'note_max': {'value': 8.600000381469727},\n",
       "    'note_moyenne': {'value': 5.961786593160322},\n",
       "    'note_min': {'value': 2.4000000953674316}},\n",
       "   {'key': 2011,\n",
       "    'doc_count': 308,\n",
       "    'note_max': {'value': 8.5},\n",
       "    'note_moyenne': {'value': 6.114285714440531},\n",
       "    'note_min': {'value': 1.7000000476837158}},\n",
       "   {'key': 2009,\n",
       "    'doc_count': 253,\n",
       "    'note_max': {'value': 8.399999618530273},\n",
       "    'note_moyenne': {'value': 6.268774692248921},\n",
       "    'note_min': {'value': 2.700000047683716}},\n",
       "   {'key': 2010,\n",
       "    'doc_count': 249,\n",
       "    'note_max': {'value': 8.800000190734863},\n",
       "    'note_moyenne': {'value': 6.239759046868627},\n",
       "    'note_min': {'value': 1.7999999523162842}},\n",
       "   {'key': 2008,\n",
       "    'doc_count': 207,\n",
       "    'note_max': {'value': 9.0},\n",
       "    'note_moyenne': {'value': 6.230917865527425},\n",
       "    'note_min': {'value': 1.7999999523162842}},\n",
       "   {'key': 2006,\n",
       "    'doc_count': 204,\n",
       "    'note_max': {'value': 8.5},\n",
       "    'note_moyenne': {'value': 6.31617646708208},\n",
       "    'note_min': {'value': 1.7999999523162842}},\n",
       "   {'key': 2007,\n",
       "    'doc_count': 200,\n",
       "    'note_max': {'value': 8.300000190734863},\n",
       "    'note_moyenne': {'value': 6.419499988555908},\n",
       "    'note_min': {'value': 2.200000047683716}},\n",
       "   {'key': 2005,\n",
       "    'doc_count': 170,\n",
       "    'note_max': {'value': 8.300000190734863},\n",
       "    'note_moyenne': {'value': 6.289999998317045},\n",
       "    'note_min': {'value': 2.299999952316284}},\n",
       "   {'key': 2014,\n",
       "    'doc_count': 152,\n",
       "    'note_max': {'value': 4.860000133514404},\n",
       "    'note_moyenne': {'value': 4.860000133514404},\n",
       "    'note_min': {'value': 4.860000133514404}}]}}"
      ]
     },
     "execution_count": 34,
     "metadata": {},
     "output_type": "execute_result"
    }
   ],
   "source": [
    "#agregation et stats simple -> stats basiques raitings/years\n",
    "res = es.search(index=\"movies\",body={\"aggs\" : {\n",
    "    \"group_year\" : {\n",
    "        \"terms\" : { \"field\" : \"fields.year\" },\n",
    "        \"aggs\" : {\n",
    "            \"note_moyenne\" : {\"avg\" : {\"field\" : \"fields.rating\"}},\n",
    "            \"note_min\" : {\"min\" : {\"field\" : \"fields.rating\"}},\n",
    "            \"note_max\" : {\"max\" : {\"field\" : \"fields.rating\"}}\n",
    "        }\n",
    "}}})\n",
    "res[\"aggregations\"]"
   ]
  },
  {
   "cell_type": "code",
   "execution_count": 35,
   "metadata": {},
   "outputs": [
    {
     "name": "stdout",
     "output_type": "stream",
     "text": [
      "Properties of 'orders'\n",
      "\n",
      "{'orders': {'mappings': {'properties': {'lines': {'properties': {'amount': {'type': 'float'}, 'product_id': {'type': 'long'}, 'quantity': {'type': 'long'}}}, 'purchased_at': {'type': 'date'}, 'sales_channel': {'type': 'text', 'fields': {'keyword': {'type': 'keyword', 'ignore_above': 256}}}, 'salesman': {'properties': {'id': {'type': 'long'}, 'name': {'type': 'text', 'fields': {'keyword': {'type': 'keyword', 'ignore_above': 256}}}}}, 'status': {'type': 'text', 'fields': {'keyword': {'type': 'keyword', 'ignore_above': 256}}}, 'total_amount': {'type': 'float'}}}}}\n",
      "\n",
      "Total amount is 109209.60997009277\n"
     ]
    }
   ],
   "source": [
    "### 📟 Exercice [optionnel]\n",
    "\n",
    "es.indices.get_alias(\"*\")\n",
    "print(\"Properties of 'orders'\\n\")\n",
    "print(es.indices.get_mapping(index=\"orders\"))\n",
    "\n",
    "res = es.search(index=\"orders\", body= {\"aggs\" : {\n",
    "        \"total\" : {\n",
    "            \"sum\" : {\"field\" : \"total_amount\"}\n",
    "        }\n",
    "    }\n",
    "})\n",
    "print(\"\\nTotal amount is {}\".format(res[\"aggregations\"][\"total\"][\"value\"]))"
   ]
  },
  {
   "cell_type": "markdown",
   "metadata": {},
   "source": [
    "### Datetime agrégation \n",
    "\n",
    "Pour illuster l'agrégation par datetime on va créer un index `travel` et utiliser des data de type :\n",
    "```\n",
    "doc1 = {\"city\":\"Bangalore\", \"country\":\"India\",\"datetime\": datetime.datetime(2018,1,1,10,20,0)} \n",
    "```"
   ]
  },
  {
   "cell_type": "code",
   "execution_count": 36,
   "metadata": {},
   "outputs": [
    {
     "data": {
      "text/plain": [
       "{'acknowledged': True, 'shards_acknowledged': True, 'index': 'travel'}"
      ]
     },
     "execution_count": 36,
     "metadata": {},
     "output_type": "execute_result"
    }
   ],
   "source": [
    "#specify mapping and create index \n",
    "if es.indices.exists(index=\"travel\"):\n",
    "    es.indices.delete(index=\"travel\", ignore=[400,404])\n",
    "\n",
    "settings = {\n",
    "    \"settings\": {\n",
    "        \"number_of_shards\": 2,\n",
    "        \"number_of_replicas\": 1\n",
    "    },\n",
    "    \"mappings\": {\n",
    "            \"properties\": {\n",
    "                \"city\": {\n",
    "                        \"type\": \"text\",\n",
    "                        \"fields\": {\n",
    "                            \"keyword\": {\n",
    "                                \"type\": \"keyword\",\n",
    "                                \"ignore_above\": 256\n",
    "                            }\n",
    "                        }\n",
    "                    },\n",
    "                \"country\": {\n",
    "                        \"type\": \"text\",\n",
    "                        \"fields\": {\n",
    "                            \"keyword\": {\n",
    "                                \"type\": \"keyword\",\n",
    "                                \"ignore_above\": 256\n",
    "                            }\n",
    "                        }\n",
    "                    },\n",
    "                \"datetime\": {\n",
    "                        \"type\": \"date\",\n",
    "                    }\n",
    "        }\n",
    "     }\n",
    "}\n",
    "es.indices.create(index=\"travel\", ignore=400, body=settings)"
   ]
  },
  {
   "cell_type": "code",
   "execution_count": 37,
   "metadata": {},
   "outputs": [
    {
     "data": {
      "text/plain": [
       "{'_index': 'travel',\n",
       " '_type': '_doc',\n",
       " '_id': '3',\n",
       " '_version': 1,\n",
       " 'result': 'created',\n",
       " '_shards': {'total': 2, 'successful': 1, 'failed': 0},\n",
       " '_seq_no': 2,\n",
       " '_primary_term': 1}"
      ]
     },
     "execution_count": 37,
     "metadata": {},
     "output_type": "execute_result"
    }
   ],
   "source": [
    "import datetime\n",
    "doc1 = {\"city\":\"Bangalore\", \"country\":\"India\",\"datetime\": datetime.datetime(2018,1,1,10,20,0)} #datetime format: yyyy,MM,dd,hh,mm,ss\n",
    "doc2 = {\"city\":\"London\", \"country\":\"England\",\"datetime\": datetime.datetime(2018,1,2,22,30,0)}\n",
    "doc3 = {\"city\":\"Los Angeles\", \"country\":\"USA\",\"datetime\": datetime.datetime(2018,4,19,18,20,0)}\n",
    "es.index(index=\"travel\", id=1, body=doc1)\n",
    "es.index(index=\"travel\", id=2, body=doc2)\n",
    "es.index(index=\"travel\", id=3, body=doc3)"
   ]
  },
  {
   "cell_type": "code",
   "execution_count": 38,
   "metadata": {},
   "outputs": [
    {
     "data": {
      "text/plain": [
       "{'travel': {'mappings': {'properties': {'city': {'type': 'text',\n",
       "     'fields': {'keyword': {'type': 'keyword', 'ignore_above': 256}}},\n",
       "    'country': {'type': 'text',\n",
       "     'fields': {'keyword': {'type': 'keyword', 'ignore_above': 256}}},\n",
       "    'datetime': {'type': 'date'}}}}}"
      ]
     },
     "execution_count": 38,
     "metadata": {},
     "output_type": "execute_result"
    }
   ],
   "source": [
    "es.indices.get_mapping(index='travel')"
   ]
  },
  {
   "cell_type": "code",
   "execution_count": 39,
   "metadata": {},
   "outputs": [
    {
     "data": {
      "text/plain": [
       "{'took': 332,\n",
       " 'timed_out': False,\n",
       " '_shards': {'total': 2, 'successful': 2, 'skipped': 0, 'failed': 0},\n",
       " 'hits': {'total': {'value': 3, 'relation': 'eq'},\n",
       "  'max_score': None,\n",
       "  'hits': []},\n",
       " 'aggregations': {'country': {'buckets': [{'key_as_string': '2018-01-01T00:00:00.000Z',\n",
       "     'key': 1514764800000,\n",
       "     'doc_count': 3}]}}}"
      ]
     },
     "execution_count": 39,
     "metadata": {},
     "output_type": "execute_result"
    }
   ],
   "source": [
    "es.search(index=\"travel\", body={\"from\": 0, \"size\": 0, \"query\": {\"match_all\": {}}, \"aggs\": {\n",
    "                  \"country\": {\n",
    "                      \"date_histogram\": {\"field\": \"datetime\", \"calendar_interval\": \"year\"}}}})"
   ]
  },
  {
   "cell_type": "markdown",
   "metadata": {},
   "source": [
    "### 📟 Exercice [optionnel]\n",
    "Créer le document suivant et inserer le en base afin de rafficher l'histogramme precedent, dite ce qui à changer.\n",
    "```\n",
    "doc4 = {\"city\":\"Sydney\", \"country\":\"Australia\",\"datetime\":datetime.datetime(2019,4,19,18,20,0)}\n",
    "```"
   ]
  },
  {
   "cell_type": "code",
   "execution_count": 40,
   "metadata": {},
   "outputs": [
    {
     "data": {
      "text/plain": [
       "{'_index': 'travel',\n",
       " '_type': '_doc',\n",
       " '_id': '4',\n",
       " '_version': 1,\n",
       " 'result': 'created',\n",
       " '_shards': {'total': 2, 'successful': 1, 'failed': 0},\n",
       " '_seq_no': 0,\n",
       " '_primary_term': 1}"
      ]
     },
     "execution_count": 40,
     "metadata": {},
     "output_type": "execute_result"
    }
   ],
   "source": [
    "doc4 = {\"city\":\"Sydney\", \"country\":\"Australia\",\"datetime\":datetime.datetime(2019,4,19,18,20,0)}\n",
    "\n",
    "es.index(index=\"travel\", id=4, body=doc4)"
   ]
  },
  {
   "cell_type": "code",
   "execution_count": 41,
   "metadata": {},
   "outputs": [
    {
     "data": {
      "text/plain": [
       "{'date_travel': {'buckets': [{'key_as_string': '2018-01-01T00:00:00.000Z',\n",
       "    'key': 1514764800000,\n",
       "    'doc_count': 3},\n",
       "   {'key_as_string': '2019-01-01T00:00:00.000Z',\n",
       "    'key': 1546300800000,\n",
       "    'doc_count': 1}]}}"
      ]
     },
     "execution_count": 41,
     "metadata": {},
     "output_type": "execute_result"
    }
   ],
   "source": [
    "res = es.search(index=\"travel\", body={\n",
    "    \"from\": 0, \"size\": 0,\n",
    "    \"query\": {\"match_all\": {}},\n",
    "    \"aggs\" : {\n",
    "        \"date_travel\" : {\n",
    "            \"date_histogram\" : { \n",
    "                \"field\" : \"datetime\",\n",
    "                \"calendar_interval\" : \"year\"\n",
    "            }\n",
    "        }\n",
    "    }\n",
    "})\n",
    "\n",
    "res[\"aggregations\"]"
   ]
  },
  {
   "cell_type": "markdown",
   "metadata": {},
   "source": [
    "## Search text introduction : endpoint `_analyze`\n",
    "\n",
    "### Construire un Analyzer\n",
    "Avant de commencer cette partie assurez vous d'avoir créer un `french analyzer` dans elasticsearch. \n",
    "Ci joint l'exemple d'analyzer francais vu dans le cour : \n",
    "```json\n",
    "PUT french\n",
    "{\n",
    "  \"settings\": {\n",
    "    \"analysis\": { \n",
    "      \"filter\": {\n",
    "        \"french_elision\": {\n",
    "          \"type\": \"elision\",\n",
    "          \"articles_case\": true,\n",
    "          \"articles\": [\"l\", \"m\", \"t\", \"qu\", \"n\", \"s\", \"j\", \"d\", \"c\", \"jusqu\", \"quoiqu\", \"lorsqu\", \"puisqu\"]\n",
    "        },\n",
    "        \"french_synonym\": {\n",
    "          \"type\": \"synonym\",\n",
    "          \"ignore_case\": true,\n",
    "          \"expand\": true,\n",
    "          \"synonyms\": [\n",
    "            \"réviser, étudier, bosser\",\n",
    "            \"mayo, mayonnaise\",\n",
    "            \"grille, toaste\"\n",
    "          ]\n",
    "        },\n",
    "        \"french_stemmer\": {\n",
    "          \"type\": \"stemmer\",\n",
    "          \"language\": \"light_french\"\n",
    "        }\n",
    "      },\n",
    "      \"analyzer\": {\n",
    "        \"french_heavy\": {\n",
    "          \"tokenizer\": \"icu_tokenizer\",\n",
    "          \"filter\": [\n",
    "            \"french_elision\",\n",
    "            \"icu_folding\",\n",
    "            \"french_synonym\",\n",
    "            \"french_stemmer\"\n",
    "          ]\n",
    "        },\n",
    "        \"french_light\": {\n",
    "          \"tokenizer\": \"icu_tokenizer\",\n",
    "          \"filter\": [\n",
    "            \"french_elision\",\n",
    "            \"icu_folding\"\n",
    "          ]\n",
    "        }\n",
    "      }\n",
    "    }\n",
    "  }\n",
    "}\n",
    "```\n",
    "\n",
    "🤓 Assurer vous d'installer le pluging qui contient `icu_tokenizer` avant sinon vous allez avoir une erreur. "
   ]
  },
  {
   "cell_type": "code",
   "execution_count": 27,
   "metadata": {},
   "outputs": [
    {
     "data": {
      "text/plain": [
       "{'_id': '1',\n",
       " '_index': 'french',\n",
       " '_primary_term': 1,\n",
       " '_seq_no': 2,\n",
       " '_shards': {'failed': 0, 'successful': 1, 'total': 2},\n",
       " '_type': '_doc',\n",
       " '_version': 3,\n",
       " 'result': 'updated'}"
      ]
     },
     "execution_count": 27,
     "metadata": {},
     "output_type": "execute_result"
    }
   ],
   "source": [
    "doc1 = {\"text\" : \"Une phrase en français :) ...\"}\n",
    "es.index(index=\"french\", id=1, body=doc1)"
   ]
  },
  {
   "cell_type": "code",
   "execution_count": 28,
   "metadata": {},
   "outputs": [
    {
     "data": {
      "text/plain": [
       "{'tokens': [{'end_offset': 2,\n",
       "   'position': 0,\n",
       "   'start_offset': 0,\n",
       "   'token': 'je',\n",
       "   'type': '<ALPHANUM>'},\n",
       "  {'end_offset': 7,\n",
       "   'position': 1,\n",
       "   'start_offset': 3,\n",
       "   'token': 'dois',\n",
       "   'type': '<ALPHANUM>'},\n",
       "  {'end_offset': 14,\n",
       "   'position': 2,\n",
       "   'start_offset': 8,\n",
       "   'token': 'bosser',\n",
       "   'type': '<ALPHANUM>'},\n",
       "  {'end_offset': 19,\n",
       "   'position': 3,\n",
       "   'start_offset': 15,\n",
       "   'token': 'pour',\n",
       "   'type': '<ALPHANUM>'},\n",
       "  {'end_offset': 23,\n",
       "   'position': 4,\n",
       "   'start_offset': 20,\n",
       "   'token': 'mon',\n",
       "   'type': '<ALPHANUM>'},\n",
       "  {'end_offset': 27,\n",
       "   'position': 5,\n",
       "   'start_offset': 24,\n",
       "   'token': 'qcm',\n",
       "   'type': '<ALPHANUM>'},\n",
       "  {'end_offset': 33,\n",
       "   'position': 6,\n",
       "   'start_offset': 28,\n",
       "   'token': 'sinon',\n",
       "   'type': '<ALPHANUM>'},\n",
       "  {'end_offset': 36,\n",
       "   'position': 7,\n",
       "   'start_offset': 34,\n",
       "   'token': 'je',\n",
       "   'type': '<ALPHANUM>'},\n",
       "  {'end_offset': 41,\n",
       "   'position': 8,\n",
       "   'start_offset': 37,\n",
       "   'token': 'vais',\n",
       "   'type': '<ALPHANUM>'},\n",
       "  {'end_offset': 47,\n",
       "   'position': 9,\n",
       "   'start_offset': 42,\n",
       "   'token': 'avoir',\n",
       "   'type': '<ALPHANUM>'},\n",
       "  {'end_offset': 51,\n",
       "   'position': 10,\n",
       "   'start_offset': 48,\n",
       "   'token': 'une',\n",
       "   'type': '<ALPHANUM>'},\n",
       "  {'end_offset': 56,\n",
       "   'position': 11,\n",
       "   'start_offset': 52,\n",
       "   'token': 'sale',\n",
       "   'type': '<ALPHANUM>'},\n",
       "  {'end_offset': 61,\n",
       "   'position': 12,\n",
       "   'start_offset': 57,\n",
       "   'token': 'note',\n",
       "   'type': '<ALPHANUM>'}]}"
      ]
     },
     "execution_count": 28,
     "metadata": {},
     "output_type": "execute_result"
    }
   ],
   "source": [
    "es.indices.analyze(index=\"french\",body={\n",
    "  \"text\" : \"Je dois bosser pour mon QCM sinon je vais avoir une sale note :( ...\"\n",
    "})"
   ]
  },
  {
   "cell_type": "markdown",
   "metadata": {},
   "source": [
    "### 📟 Exercice [optionnel]\n",
    "Ajouter une fonctionnalités de reconnaissance de smiley à votre analyzer, de sorte qu'il fasse le lien suivant : \n",
    "```\n",
    ":) -> _content_\n",
    ":( -> _triste_\n",
    "```\n",
    "Faite ensuite une requete en python sur le document ci-dessous : \n",
    "```json\n",
    "{\n",
    "     \"text\" : \"Je dois bosser pour mon QCM sinon je vais avoir une sale note :( ...\"\n",
    "}\n",
    "```"
   ]
  },
  {
   "cell_type": "code",
   "execution_count": 45,
   "metadata": {},
   "outputs": [
    {
     "data": {
      "text/plain": [
       "{'acknowledged': True, 'shards_acknowledged': True, 'index': 'frenchsmiley'}"
      ]
     },
     "execution_count": 45,
     "metadata": {},
     "output_type": "execute_result"
    }
   ],
   "source": [
    "settings = {\n",
    "  \"settings\": {\n",
    "    \"analysis\": { \n",
    "      \"analyzer\": {\n",
    "          \"smiley_analyzer\" : {\n",
    "              \"tokenizer\" : \"standard\",\n",
    "              \"char_filter\" : [\n",
    "                  \"smiley_mapper\"\n",
    "              ]\n",
    "          }\n",
    "      },\n",
    "        \"char_filter\" : {\n",
    "            \"smiley_mapper\" : {\n",
    "                \"type\" : \"mapping\",\n",
    "                \"mappings\" : [\n",
    "                    \":) => _happy_\",\n",
    "                    \":( => _triste_\"\n",
    "                ]\n",
    "            }\n",
    "        }\n",
    "    }\n",
    "  }\n",
    "}\n",
    "\n",
    "es.indices.create(index=\"frenchsmiley\", ignore=400, body=settings)"
   ]
  },
  {
   "cell_type": "code",
   "execution_count": 46,
   "metadata": {},
   "outputs": [
    {
     "data": {
      "text/plain": [
       "{'_index': 'frenchsmiley',\n",
       " '_type': '_doc',\n",
       " '_id': '1',\n",
       " '_version': 1,\n",
       " 'result': 'created',\n",
       " '_shards': {'total': 2, 'successful': 1, 'failed': 0},\n",
       " '_seq_no': 0,\n",
       " '_primary_term': 1}"
      ]
     },
     "execution_count": 46,
     "metadata": {},
     "output_type": "execute_result"
    }
   ],
   "source": [
    "doc1 = {\"text\" : \"Une phrase en français :) ...\"}\n",
    "es.index(index=\"frenchsmiley\", id=1, body=doc1)"
   ]
  },
  {
   "cell_type": "code",
   "execution_count": 49,
   "metadata": {},
   "outputs": [
    {
     "data": {
      "text/plain": [
       "{'tokens': [{'token': 'Je',\n",
       "   'start_offset': 0,\n",
       "   'end_offset': 2,\n",
       "   'type': '<ALPHANUM>',\n",
       "   'position': 0},\n",
       "  {'token': 'dois',\n",
       "   'start_offset': 3,\n",
       "   'end_offset': 7,\n",
       "   'type': '<ALPHANUM>',\n",
       "   'position': 1},\n",
       "  {'token': 'bosser',\n",
       "   'start_offset': 8,\n",
       "   'end_offset': 14,\n",
       "   'type': '<ALPHANUM>',\n",
       "   'position': 2},\n",
       "  {'token': 'pour',\n",
       "   'start_offset': 15,\n",
       "   'end_offset': 19,\n",
       "   'type': '<ALPHANUM>',\n",
       "   'position': 3},\n",
       "  {'token': 'mon',\n",
       "   'start_offset': 20,\n",
       "   'end_offset': 23,\n",
       "   'type': '<ALPHANUM>',\n",
       "   'position': 4},\n",
       "  {'token': 'QCM',\n",
       "   'start_offset': 24,\n",
       "   'end_offset': 27,\n",
       "   'type': '<ALPHANUM>',\n",
       "   'position': 5},\n",
       "  {'token': 'sinon',\n",
       "   'start_offset': 28,\n",
       "   'end_offset': 33,\n",
       "   'type': '<ALPHANUM>',\n",
       "   'position': 6},\n",
       "  {'token': 'je',\n",
       "   'start_offset': 34,\n",
       "   'end_offset': 36,\n",
       "   'type': '<ALPHANUM>',\n",
       "   'position': 7},\n",
       "  {'token': 'vais',\n",
       "   'start_offset': 37,\n",
       "   'end_offset': 41,\n",
       "   'type': '<ALPHANUM>',\n",
       "   'position': 8},\n",
       "  {'token': 'avoir',\n",
       "   'start_offset': 42,\n",
       "   'end_offset': 47,\n",
       "   'type': '<ALPHANUM>',\n",
       "   'position': 9},\n",
       "  {'token': 'une',\n",
       "   'start_offset': 48,\n",
       "   'end_offset': 51,\n",
       "   'type': '<ALPHANUM>',\n",
       "   'position': 10},\n",
       "  {'token': 'sale',\n",
       "   'start_offset': 52,\n",
       "   'end_offset': 56,\n",
       "   'type': '<ALPHANUM>',\n",
       "   'position': 11},\n",
       "  {'token': 'note',\n",
       "   'start_offset': 57,\n",
       "   'end_offset': 61,\n",
       "   'type': '<ALPHANUM>',\n",
       "   'position': 12},\n",
       "  {'token': '_triste_',\n",
       "   'start_offset': 62,\n",
       "   'end_offset': 64,\n",
       "   'type': '<ALPHANUM>',\n",
       "   'position': 13}]}"
      ]
     },
     "execution_count": 49,
     "metadata": {},
     "output_type": "execute_result"
    }
   ],
   "source": [
    "es.indices.analyze(index=\"frenchsmiley\",body={\n",
    "    \"analyzer\" : \"smiley_analyzer\",\n",
    "  \"text\" : \"Je dois bosser pour mon QCM sinon je vais avoir une sale note :( ...\"\n",
    "})"
   ]
  },
  {
   "cell_type": "code",
   "execution_count": null,
   "metadata": {},
   "outputs": [],
   "source": []
  }
 ],
 "metadata": {
  "kernelspec": {
   "display_name": "Python 3",
   "language": "python",
   "name": "python3"
  },
  "language_info": {
   "codemirror_mode": {
    "name": "ipython",
    "version": 3
   },
   "file_extension": ".py",
   "mimetype": "text/x-python",
   "name": "python",
   "nbconvert_exporter": "python",
   "pygments_lexer": "ipython3",
   "version": "3.8.5"
  },
  "latex_envs": {
   "LaTeX_envs_menu_present": true,
   "autoclose": false,
   "autocomplete": true,
   "bibliofile": "biblio.bib",
   "cite_by": "apalike",
   "current_citInitial": 1,
   "eqLabelWithNumbers": true,
   "eqNumInitial": 1,
   "hotkeys": {
    "equation": "Ctrl-E",
    "itemize": "Ctrl-I"
   },
   "labels_anchors": false,
   "latex_user_defs": false,
   "report_style_numbering": false,
   "user_envs_cfg": false
  },
  "toc": {
   "base_numbering": 1,
   "nav_menu": {},
   "number_sections": true,
   "sideBar": true,
   "skip_h1_title": false,
   "title_cell": "Table of Contents",
   "title_sidebar": "Contents",
   "toc_cell": false,
   "toc_position": {
    "height": "calc(100% - 180px)",
    "left": "10px",
    "top": "150px",
    "width": "316.04620361328125px"
   },
   "toc_section_display": true,
   "toc_window_display": true
  },
  "varInspector": {
   "cols": {
    "lenName": 16,
    "lenType": 16,
    "lenVar": 40
   },
   "kernels_config": {
    "python": {
     "delete_cmd_postfix": "",
     "delete_cmd_prefix": "del ",
     "library": "var_list.py",
     "varRefreshCmd": "print(var_dic_list())"
    },
    "r": {
     "delete_cmd_postfix": ") ",
     "delete_cmd_prefix": "rm(",
     "library": "var_list.r",
     "varRefreshCmd": "cat(var_dic_list()) "
    }
   },
   "types_to_exclude": [
    "module",
    "function",
    "builtin_function_or_method",
    "instance",
    "_Feature"
   ],
   "window_display": false
  }
 },
 "nbformat": 4,
 "nbformat_minor": 4
}
